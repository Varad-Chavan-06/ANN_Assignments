{
 "cells": [
  {
   "cell_type": "code",
   "execution_count": 3,
   "id": "dc4ee041-d22f-4202-a6ef-e346d4fb468d",
   "metadata": {},
   "outputs": [],
   "source": [
    "import numpy as np"
   ]
  },
  {
   "cell_type": "code",
   "execution_count": 35,
   "id": "08e5618f-1c9c-4654-b381-60788ce12ea2",
   "metadata": {},
   "outputs": [],
   "source": [
    "xor_train_data = np.array([[0, 0],\n",
    "                           [0, 1],\n",
    "                           [1, 0],\n",
    "                           [1, 1]])\n",
    "\n",
    "xor_train_output = np.array([[0],\n",
    "                             [1],\n",
    "                             [1],\n",
    "                             [0]])\n",
    "\n",
    "andnot_train_data = np.array([[0, 0],\n",
    "                              [0, 1],\n",
    "                              [1, 0],\n",
    "                              [1, 1]])\n",
    "\n",
    "andnot_train_output = np.array([[1],\n",
    "                                [1],\n",
    "                                [1],\n",
    "                                [0]])\n",
    "\n",
    "ascii_train_data = np.array([[1, 1, 0, 0, 0, 0],\n",
    "                             [1, 1, 0, 0, 0, 1],\n",
    "                             [1, 1, 0, 0, 1, 0],\n",
    "                             [1, 1, 0, 0, 1, 1],\n",
    "                             [1, 1, 0, 1, 0, 0],\n",
    "                             [1, 1, 0, 1, 0, 1],\n",
    "                             [1, 1, 0, 1, 1, 0],\n",
    "                             [1, 1, 0, 1, 1, 1],\n",
    "                             [1, 1, 1, 0, 0, 0],\n",
    "                             [1, 1, 1, 0, 0, 1]])\n",
    "\n",
    "ascii_train_output = np.array([[0],\n",
    "                               [1],\n",
    "                               [0],\n",
    "                               [1],\n",
    "                               [0],\n",
    "                               [1],\n",
    "                               [0],\n",
    "                               [1],\n",
    "                               [0],\n",
    "                               [1]])\n",
    "\n",
    "matrix_train_data = np.array([[0, 0, 0, 0],\n",
    "                              [0, 0, 0, 1],\n",
    "                              [0, 0, 1, 0],\n",
    "                              [0, 0, 1, 1],\n",
    "                              [0, 1, 0, 0],\n",
    "                              [0, 1, 0, 1],\n",
    "                              [0, 1, 1, 0],\n",
    "                              [0, 1, 1, 1],\n",
    "                              [1, 0, 0, 0],\n",
    "                              [1, 0, 0, 1]])\n",
    "\n",
    "matrix_train_output = np.array([[1, 0, 0, 0, 0, 0, 0, 0, 0, 0],\n",
    "                                [0, 1, 0, 0, 0, 0, 0, 0, 0, 0],\n",
    "                                [0, 0, 1, 0, 0, 0, 0, 0, 0, 0],\n",
    "                                [0, 0, 0, 1, 0, 0, 0, 0, 0, 0],\n",
    "                                [0, 0, 0, 0, 1, 0, 0, 0, 0, 0],\n",
    "                                [0, 0, 0, 0, 0, 1, 0, 0, 0, 0],\n",
    "                                [0, 0, 0, 0, 0, 0, 1, 0, 0, 0],\n",
    "                                [0, 0, 0, 0, 0, 0, 0, 1, 0, 0],\n",
    "                                [0, 0, 0, 0, 0, 0, 0, 0, 1, 0],\n",
    "                                [0, 0, 0, 0, 0, 0, 0, 0, 0, 1]])\n",
    "\n",
    "\n",
    "#XOR, NAND, MATRIX, BAM, ASCII, DECISION REGION, BACKPROPAGATION (7) #THIS CODE\n",
    "#ACTIVATION FUNCTIONS(1), ART(1), HOPFIELD(1), CNN(3)"
   ]
  },
  {
   "cell_type": "code",
   "execution_count": 6,
   "id": "198ae19b-4bdc-4017-b273-f2cbf4c00c51",
   "metadata": {},
   "outputs": [],
   "source": [
    "class NeuralNetwork:\n",
    "\n",
    "    def __init__(self, input_size, hidden_size, output_size):\n",
    "\n",
    "        self.hidden_input_weights = np.random.rand(input_size, hidden_size) # Generates values from 0 to 1 randomly\n",
    "        self.hidden_output_weights = np.random.rand(hidden_size, output_size)\n",
    "\n",
    "    def sigmoid(self, x):\n",
    "\n",
    "        return 1/(1+np.exp(-x))\n",
    "\n",
    "    def derivate_sigmoid(self, x):\n",
    "\n",
    "        return x*(1-x)\n",
    "\n",
    "    def train(self, train_data, train_output, epochs):\n",
    "\n",
    "        for i in range(epochs):\n",
    "\n",
    "            #Forward Propagation\n",
    "\n",
    "            hidden_output = self.sigmoid(np.dot(train_data, self.hidden_input_weights))\n",
    "            output_output = self.sigmoid(np.dot(hidden_output, self.hidden_output_weights))\n",
    "\n",
    "            #Backward Propagation\n",
    "\n",
    "            output_error = train_output-output_output\n",
    "            self.hidden_output_weights += np.dot(hidden_output.T, output_error*self.derivate_sigmoid(output_output))\n",
    "            \n",
    "            hidden_error = np.dot(output_error*self.derivate_sigmoid(output_output), self.hidden_output_weights.T)\n",
    "            self.hidden_input_weights += np.dot(train_data.T, hidden_error*self.derivate_sigmoid(hidden_output))\n",
    "\n",
    "    def predict(self, test_data):\n",
    "\n",
    "        hidden_output = self.sigmoid(np.dot(test_data, self.hidden_input_weights))\n",
    "        return self.sigmoid(np.dot(hidden_output, self.hidden_output_weights))   "
   ]
  },
  {
   "cell_type": "code",
   "execution_count": 36,
   "id": "6e0364c2-f886-4d87-a810-6bd993109230",
   "metadata": {},
   "outputs": [],
   "source": [
    "model = NeuralNetwork(6, 5, 1)"
   ]
  },
  {
   "cell_type": "code",
   "execution_count": 37,
   "id": "cbe48125-a4a2-4cfe-85f4-93c0f07702fb",
   "metadata": {},
   "outputs": [],
   "source": [
    "model.train(ascii_train_data, ascii_train_output, 10000)"
   ]
  },
  {
   "cell_type": "code",
   "execution_count": 41,
   "id": "9a0f87aa-14d0-4348-ab78-40002af5bbff",
   "metadata": {},
   "outputs": [],
   "source": [
    "#yfinal = [np.argmax(x) for x in ypred]\n",
    "#yfinal"
   ]
  },
  {
   "cell_type": "code",
   "execution_count": 24,
   "id": "099c4f21-1f5f-4365-9301-0c8abe07a3cd",
   "metadata": {},
   "outputs": [],
   "source": [
    "threshold = 0.5"
   ]
  },
  {
   "cell_type": "code",
   "execution_count": 43,
   "id": "857a21ee-ef5d-4248-ac05-3b19c99617b3",
   "metadata": {},
   "outputs": [],
   "source": [
    "predictions = model.predict(ascii_train_data)\n",
    "final_predictions = []"
   ]
  },
  {
   "cell_type": "code",
   "execution_count": 44,
   "id": "d33c71d7-fa84-4a6f-8104-dac8f6f85bd1",
   "metadata": {},
   "outputs": [],
   "source": [
    "for i in predictions:\n",
    "\n",
    "    if i > threshold: final_predictions.append('Odd')\n",
    "    else: final_predictions.append('Even')"
   ]
  },
  {
   "cell_type": "code",
   "execution_count": 56,
   "id": "a047ed9e-c2b5-4e69-a78b-103d543b51a5",
   "metadata": {},
   "outputs": [
    {
     "name": "stdout",
     "output_type": "stream",
     "text": [
      "     Input\t  Output\n",
      "[1 1 0 0 0 0] ---> Even\n",
      "[1 1 0 0 0 1] ---> Odd\n",
      "[1 1 0 0 1 0] ---> Even\n",
      "[1 1 0 0 1 1] ---> Odd\n",
      "[1 1 0 1 0 0] ---> Even\n",
      "[1 1 0 1 0 1] ---> Odd\n",
      "[1 1 0 1 1 0] ---> Even\n",
      "[1 1 0 1 1 1] ---> Odd\n",
      "[1 1 1 0 0 0] ---> Even\n",
      "[1 1 1 0 0 1] ---> Odd\n"
     ]
    }
   ],
   "source": [
    "print(\"     Input\\t  Output\")\n",
    "\n",
    "for i in range(10):\n",
    "\n",
    "    print(ascii_train_data[i],\"--->\",final_predictions[i])"
   ]
  },
  {
   "cell_type": "code",
   "execution_count": null,
   "id": "63bb9388-a852-480e-a971-0e76f042923c",
   "metadata": {},
   "outputs": [],
   "source": []
  }
 ],
 "metadata": {
  "kernelspec": {
   "display_name": "Python 3 (ipykernel)",
   "language": "python",
   "name": "python3"
  },
  "language_info": {
   "codemirror_mode": {
    "name": "ipython",
    "version": 3
   },
   "file_extension": ".py",
   "mimetype": "text/x-python",
   "name": "python",
   "nbconvert_exporter": "python",
   "pygments_lexer": "ipython3",
   "version": "3.11.5"
  }
 },
 "nbformat": 4,
 "nbformat_minor": 5
}
