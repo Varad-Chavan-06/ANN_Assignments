{
 "cells": [
  {
   "cell_type": "code",
   "execution_count": 9,
   "id": "8db43e66-eead-4f7d-9763-0cb6ff3b5078",
   "metadata": {},
   "outputs": [],
   "source": [
    "import numpy as np"
   ]
  },
  {
   "cell_type": "code",
   "execution_count": 10,
   "id": "498000ba-8d3d-489f-b104-f1ba66801dfe",
   "metadata": {},
   "outputs": [],
   "source": [
    "class HopfieldNetwork:\n",
    "\n",
    "    def __init__(self, input_neurons):\n",
    "\n",
    "        self.weights = np.zeros((input_neurons, input_neurons))\n",
    "\n",
    "    def reconstruct(self, pattern, max_iter=10000):\n",
    "\n",
    "        for i in range(max_iter):\n",
    "\n",
    "            new_pattern = np.sign(np.dot(pattern, self.weights))\n",
    "\n",
    "            if np.array_equal(new_pattern, pattern):\n",
    "\n",
    "                return new_pattern\n",
    "\n",
    "            pattern = new_pattern\n",
    "\n",
    "        return pattern\n",
    "\n",
    "    def learn(self, pattern):\n",
    "\n",
    "        self.weights += np.outer(pattern, pattern)\n",
    "        np.fill_diagonal(self.weights, 0)"
   ]
  },
  {
   "cell_type": "code",
   "execution_count": 37,
   "id": "2938b01f-3d77-4831-8f1e-c2fe72a8a02c",
   "metadata": {},
   "outputs": [],
   "source": [
    "train_patterns = np.array([[-1, -1, 1, -1, -1],\n",
    "                           [-1, 1, -1, 1, -1],\n",
    "                           [1, -1, 1, -1, 1]])\n",
    "\n",
    "\n",
    "model = HopfieldNetwork(5)"
   ]
  },
  {
   "cell_type": "code",
   "execution_count": 38,
   "id": "4bf4d306-70a7-407d-93bf-e616ee3d84c2",
   "metadata": {},
   "outputs": [],
   "source": [
    "for pattern in train_patterns:\n",
    "\n",
    "    model.learn(pattern)"
   ]
  },
  {
   "cell_type": "code",
   "execution_count": 40,
   "id": "59e438f4-65fc-422b-8c4e-f7b497aafd5e",
   "metadata": {},
   "outputs": [
    {
     "name": "stdout",
     "output_type": "stream",
     "text": [
      "Original: [-1  1  1 -1 -1]\tReconstructed: [-1.  1. -1.  1. -1.]\n",
      "Original: [ 1 -1 -1 -1  1]\tReconstructed: [ 1. -1.  1. -1.  1.]\n"
     ]
    }
   ],
   "source": [
    "test_patterns = np.array([[-1, 1, 1, -1, -1],\n",
    "                          [1, -1, -1, -1, 1]])\n",
    "\n",
    "for i in test_patterns:\n",
    "\n",
    "    print(f\"Original: {i}\\tReconstructed: {model.reconstruct(i)}\")"
   ]
  }
 ],
 "metadata": {
  "kernelspec": {
   "display_name": "Python 3 (ipykernel)",
   "language": "python",
   "name": "python3"
  },
  "language_info": {
   "codemirror_mode": {
    "name": "ipython",
    "version": 3
   },
   "file_extension": ".py",
   "mimetype": "text/x-python",
   "name": "python",
   "nbconvert_exporter": "python",
   "pygments_lexer": "ipython3",
   "version": "3.11.5"
  }
 },
 "nbformat": 4,
 "nbformat_minor": 5
}
