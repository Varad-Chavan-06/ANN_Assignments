{
 "cells": [
  {
   "cell_type": "code",
   "execution_count": 5,
   "id": "3784835e-d334-4ded-ba3b-1dda630e3aa4",
   "metadata": {},
   "outputs": [],
   "source": [
    "import numpy as np"
   ]
  },
  {
   "cell_type": "code",
   "execution_count": 6,
   "id": "f5298622-0bdd-43f9-88b9-9ebc12511a2d",
   "metadata": {},
   "outputs": [],
   "source": [
    "class ART:\n",
    "\n",
    "    def __init__(self, input_size, vigilance_parameter):\n",
    "\n",
    "        self.weights = np.random.rand(input_size) #Random values from 0 - 1\n",
    "        self.vigilance_parameter = vigilance_parameter\n",
    "\n",
    "    def normalize(self, weights): #Convert to 0-1\n",
    "\n",
    "        normal = np.linalg.norm(weights)\n",
    "\n",
    "        if normal == 0: return weights\n",
    "\n",
    "        else: return weights/normal \n",
    "\n",
    "    def learn(self, pattern, epochs):\n",
    "\n",
    "        for i in range(epochs):\n",
    "\n",
    "            output = self.recall(pattern) #0 or 1\n",
    "\n",
    "            if output == 1: return True\n",
    "\n",
    "            else:\n",
    "\n",
    "                self.weights += pattern\n",
    "                self.weights = self.normalize(self.weights)\n",
    "                \n",
    "    def recall(self, pattern):\n",
    "\n",
    "        if np.dot(pattern, self.weights) > self.vigilance_parameter: return 1\n",
    "\n",
    "        else: return 0"
   ]
  },
  {
   "cell_type": "code",
   "execution_count": 45,
   "id": "f9305693-9921-4549-bd11-1a6f1be13e48",
   "metadata": {},
   "outputs": [],
   "source": [
    "train_patterns = np.array([[1, 1, 0, 1],\n",
    "                           [1, 0, 1, 0],\n",
    "                           [1, 1, 1, 1],\n",
    "                           [1, 0, 0, 0]])\n",
    "\n",
    "model = ART(4, vigilance_parameter=0.75)"
   ]
  },
  {
   "cell_type": "code",
   "execution_count": 46,
   "id": "82e24428-f0c3-4d6c-9ae3-67fdc2e6c7f9",
   "metadata": {},
   "outputs": [],
   "source": [
    "for i in train_patterns:\n",
    "\n",
    "    model.learn(i, epochs=10000)"
   ]
  },
  {
   "cell_type": "code",
   "execution_count": 47,
   "id": "d126fb98-8377-46c7-a706-b58ac199313b",
   "metadata": {},
   "outputs": [],
   "source": [
    "test_patterns = np.array([[1, 1, 1, 1],\n",
    "                          [0, 0, 1, 0],\n",
    "                          [0, 0, 0, 0],\n",
    "                          [0, 1, 0, 0],\n",
    "                          [1, 0, 0, 0]])"
   ]
  },
  {
   "cell_type": "code",
   "execution_count": 48,
   "id": "c9119126-5b26-4e19-99b2-c7d36d55eeae",
   "metadata": {},
   "outputs": [
    {
     "name": "stdout",
     "output_type": "stream",
     "text": [
      "Pattern: [1 1 1 1]\tPrediction: 1\n",
      "Pattern: [0 0 1 0]\tPrediction: 0\n",
      "Pattern: [0 0 0 0]\tPrediction: 0\n",
      "Pattern: [0 1 0 0]\tPrediction: 0\n",
      "Pattern: [1 0 0 0]\tPrediction: 1\n"
     ]
    }
   ],
   "source": [
    "for i in test_patterns:\n",
    "\n",
    "    print(f\"Pattern: {i}\\tPrediction: {model.recall(i)}\")"
   ]
  }
 ],
 "metadata": {
  "kernelspec": {
   "display_name": "Python 3 (ipykernel)",
   "language": "python",
   "name": "python3"
  },
  "language_info": {
   "codemirror_mode": {
    "name": "ipython",
    "version": 3
   },
   "file_extension": ".py",
   "mimetype": "text/x-python",
   "name": "python",
   "nbconvert_exporter": "python",
   "pygments_lexer": "ipython3",
   "version": "3.11.5"
  }
 },
 "nbformat": 4,
 "nbformat_minor": 5
}
